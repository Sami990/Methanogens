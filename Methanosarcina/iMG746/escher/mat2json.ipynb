{
 "cells": [
  {
   "cell_type": "code",
   "execution_count": 6,
   "id": "df3809bc",
   "metadata": {},
   "outputs": [],
   "source": [
    "\n",
    "import cobra\n",
    "from cobra.io import load_model\n",
    "from cobra.io import load_json_model, save_json_model, load_matlab_model, save_matlab_model, read_sbml_model, write_sbml_model\n",
    "\n",
    "import logging\n",
    "from pathlib import Path"
   ]
  },
  {
   "cell_type": "code",
   "execution_count": 24,
   "id": "7f7d55fa",
   "metadata": {},
   "outputs": [],
   "source": [
    "save_json_model(target,'iMG746.json')\n",
    "    "
   ]
  },
  {
   "cell_type": "code",
   "execution_count": 22,
   "id": "e7c3583a-d771-4e57-9e57-223a2bb62c82",
   "metadata": {},
   "outputs": [
    {
     "name": "stderr",
     "output_type": "stream",
     "text": [
      "No defined compartments in model model. Compartments will be deduced heuristically using regular expressions.\n",
      "Using regular expression found the following compartments:c, e\n",
      "Malformed gene_reaction_rule 'Mbar_A0818 | Mbar_A1889 )' for Mbar_A0818 | Mbar_A1889 )\n",
      "Traceback (most recent call last):\n",
      "  File \"/usr/local/anaconda3/lib/python3.12/site-packages/cobra/core/gene.py\", line 350, in from_string\n",
      "    tree = ast_parse(escaped_str, \"<string>\", \"eval\")\n",
      "           ^^^^^^^^^^^^^^^^^^^^^^^^^^^^^^^^^^^^^^^^^^\n",
      "  File \"/usr/local/anaconda3/lib/python3.12/ast.py\", line 52, in parse\n",
      "    return compile(source, filename, mode, flags,\n",
      "           ^^^^^^^^^^^^^^^^^^^^^^^^^^^^^^^^^^^^^^\n",
      "  File \"<string>\", line 1\n",
      "    Mbar_A0818 | Mbar_A1889 )\n",
      "                            ^\n",
      "SyntaxError: unmatched ')'\n",
      "\n",
      "During handling of the above exception, another exception occurred:\n",
      "\n",
      "Traceback (most recent call last):\n",
      "  File \"/usr/local/anaconda3/lib/python3.12/site-packages/cobra/core/gene.py\", line 365, in from_string\n",
      "    tree = ast_parse(escaped_str, \"<string>\", \"eval\")\n",
      "           ^^^^^^^^^^^^^^^^^^^^^^^^^^^^^^^^^^^^^^^^^^\n",
      "  File \"/usr/local/anaconda3/lib/python3.12/ast.py\", line 52, in parse\n",
      "    return compile(source, filename, mode, flags,\n",
      "           ^^^^^^^^^^^^^^^^^^^^^^^^^^^^^^^^^^^^^^\n",
      "  File \"<string>\", line 1\n",
      "    Mbar_A0818 | Mbar_A1889 )\n",
      "                            ^\n",
      "SyntaxError: unmatched ')'\n",
      "GPR will be empty\n",
      "/usr/local/anaconda3/lib/python3.12/site-packages/cobra/core/gene.py:373: SyntaxWarning: Malformed gene_reaction_rule 'Mbar_A0818 | Mbar_A1889 )'\n",
      "  warn(\n"
     ]
    },
    {
     "data": {
      "text/html": [
       "\n",
       "        <table>\n",
       "            <tr>\n",
       "                <td><strong>Name</strong></td>\n",
       "                <td>model</td>\n",
       "            </tr><tr>\n",
       "                <td><strong>Memory address</strong></td>\n",
       "                <td>148ab7ef0</td>\n",
       "            </tr><tr>\n",
       "                <td><strong>Number of metabolites</strong></td>\n",
       "                <td>718</td>\n",
       "            </tr><tr>\n",
       "                <td><strong>Number of reactions</strong></td>\n",
       "                <td>816</td>\n",
       "            </tr><tr>\n",
       "                <td><strong>Number of genes</strong></td>\n",
       "                <td>750</td>\n",
       "            </tr><tr>\n",
       "                <td><strong>Number of groups</strong></td>\n",
       "                <td>31</td>\n",
       "            </tr><tr>\n",
       "                <td><strong>Objective expression</strong></td>\n",
       "                <td>1.0*Mb_biomass_65 - 1.0*Mb_biomass_65_reverse_bc0c1</td>\n",
       "            </tr><tr>\n",
       "                <td><strong>Compartments</strong></td>\n",
       "                <td>c, e</td>\n",
       "            </tr>\n",
       "          </table>"
      ],
      "text/plain": [
       "<Model model at 0x148ab7ef0>"
      ]
     },
     "execution_count": 22,
     "metadata": {},
     "output_type": "execute_result"
    }
   ],
   "source": [
    "## load the toy model\n",
    "data_dir = Path(\".\") / \"..\" \n",
    "data_dir = data_dir.resolve()\n",
    "target_path = data_dir / \"iMG746.mat\"\n",
    "target = load_matlab_model(str(target_path.resolve()))\n",
    "target\n"
   ]
  },
  {
   "cell_type": "code",
   "execution_count": null,
   "id": "4ae9c96e-19b2-4824-a878-aa726aa2ecd5",
   "metadata": {},
   "outputs": [],
   "source": []
  }
 ],
 "metadata": {
  "kernelspec": {
   "display_name": "Python 3 (ipykernel)",
   "language": "python",
   "name": "python3"
  },
  "language_info": {
   "codemirror_mode": {
    "name": "ipython",
    "version": 3
   },
   "file_extension": ".py",
   "mimetype": "text/x-python",
   "name": "python",
   "nbconvert_exporter": "python",
   "pygments_lexer": "ipython3",
   "version": "3.12.2"
  }
 },
 "nbformat": 4,
 "nbformat_minor": 5
}
